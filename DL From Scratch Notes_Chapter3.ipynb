{
 "cells": [
  {
   "cell_type": "markdown",
   "metadata": {},
   "source": [
    "# Deep Learning From Scratch _ Notes\n",
    "## Chiver Wan\n",
    "### Chapter 3 Neural Networks\n",
    "> 深度学习入门--基于Python的理论与实践 【日】斋藤康毅"
   ]
  },
  {
   "cell_type": "markdown",
   "metadata": {},
   "source": [
    "### 1. Coding for a 3 layer NN: 2--3--2--2"
   ]
  },
  {
   "cell_type": "code",
   "execution_count": 1,
   "metadata": {},
   "outputs": [],
   "source": [
    "import numpy as np"
   ]
  },
  {
   "cell_type": "markdown",
   "metadata": {},
   "source": [
    "#### Define the initialization of NN, aka setup the parameters"
   ]
  },
  {
   "cell_type": "code",
   "execution_count": 2,
   "metadata": {},
   "outputs": [],
   "source": [
    "def init_network():\n",
    "    network = {}\n",
    "    network['W1'] = np.array([[0.1,0.3,0.5], [0.2,0.4,0.6]]) # 2x3\n",
    "    network['b1'] = np.array([[0.1,0.2,0.3]]) # 1x3\n",
    "    network['W2'] = np.array([[0.1,0.4], [0.2,0.5], [0.3,0.6]]) # 3x2\n",
    "    network['b2'] = np.array([[0.1,0.2]]) # 1x2\n",
    "    network['W3'] = np.array([[0.1,0.3], [0.2,0.4]]) # 2x2\n",
    "    network['b3'] = np.array([[0.1,0.2]]) # 1x2\n",
    "    return network"
   ]
  },
  {
   "cell_type": "markdown",
   "metadata": {},
   "source": [
    "#### Define Activation Function"
   ]
  },
  {
   "cell_type": "code",
   "execution_count": 3,
   "metadata": {},
   "outputs": [],
   "source": [
    "def sigmoid(x):\n",
    "    return 1 / (1 + np.exp(-x))\n",
    "\n",
    "def identity_function(x):\n",
    "    return x\n",
    "\n",
    "def relu(x):\n",
    "    return np.maximum(0,x)"
   ]
  },
  {
   "cell_type": "markdown",
   "metadata": {},
   "source": [
    "For Choosing activation function, if binary classification: use sigmoid; if multiple classification: use softmax; if regression: use identity; if in the middle: mostly use relu, or leaky relu."
   ]
  },
  {
   "cell_type": "markdown",
   "metadata": {},
   "source": [
    "#### Define forward propagation"
   ]
  },
  {
   "cell_type": "code",
   "execution_count": 4,
   "metadata": {},
   "outputs": [],
   "source": [
    "def forward(network, x):\n",
    "    W1, W2, W3 = network['W1'], network['W2'], network['W3']\n",
    "    b1, b2, b3 = network['b1'], network['b2'], network['b3']\n",
    "    \n",
    "    z1 = np.dot(x, W1) + b1\n",
    "    a1 = sigmoid(z1)\n",
    "    \n",
    "    z2 = np.dot(a1, W2) + b2\n",
    "    a2 = sigmoid(z2)\n",
    "    \n",
    "    z3 = np.dot(a2, W3) + b3\n",
    "    y = identity_function(z3)\n",
    "    \n",
    "    return y\n",
    "    "
   ]
  },
  {
   "cell_type": "markdown",
   "metadata": {},
   "source": [
    "#### Process of execution:"
   ]
  },
  {
   "cell_type": "code",
   "execution_count": 5,
   "metadata": {},
   "outputs": [
    {
     "name": "stdout",
     "output_type": "stream",
     "text": [
      "[[0.31682708 0.69627909]]\n"
     ]
    }
   ],
   "source": [
    "network = init_network()\n",
    "x = np.array([[1.0,0.5]]) # input data\n",
    "y = forward(network, x)\n",
    "print(y)"
   ]
  },
  {
   "cell_type": "markdown",
   "metadata": {},
   "source": [
    "### 2. Design of Output Layer"
   ]
  },
  {
   "cell_type": "markdown",
   "metadata": {},
   "source": [
    "Problems in DL can be classified as Regression Problem and Classification Problem\n",
    "\n",
    "**Regression:** to predict a value based on given input\n",
    "\n",
    "**Classification:** to predict whether it is A or B"
   ]
  },
  {
   "cell_type": "markdown",
   "metadata": {},
   "source": [
    "#### Softmax and Identity Function\n",
    "\n",
    "* **Softmax** has its outputs as probabilities, the N-1 th layers are inter-related for the outputs\n",
    "\n",
    "* **Identity** has its outputs independent of different neurons, thus its for exact prediction of a value"
   ]
  },
  {
   "cell_type": "code",
   "execution_count": 8,
   "metadata": {},
   "outputs": [],
   "source": [
    "def softmax(a):\n",
    "    c = np.max(a) # 将数据中的最大值用于限制溢出\n",
    "    exp_a = np.exp(a -c) # 溢出对策\n",
    "    sum_exp_a = np.sum(exp_a)\n",
    "    y = exp_a / sum_exp_a\n",
    "    \n",
    "    return y"
   ]
  },
  {
   "cell_type": "code",
   "execution_count": 11,
   "metadata": {},
   "outputs": [
    {
     "name": "stdout",
     "output_type": "stream",
     "text": [
      "[[1.50682404e-09 2.68941421e-01 7.31058578e-01]]\n",
      "1.0\n"
     ]
    }
   ],
   "source": [
    "# example of using softmax\n",
    "a = np.array([[2,21,22]]) # 即便最大值22减去22等于零，e的零次方正好是1\n",
    "print(softmax(a))\n",
    "print(np.sum(softmax(a))) # 最终的和仍旧是1 "
   ]
  },
  {
   "cell_type": "markdown",
   "metadata": {},
   "source": [
    "#### Number of Output Neurons\n",
    "* Classify handwritten numbers from 0-9, there should be 10 neurons\n",
    "* Binary Classification: only need one"
   ]
  },
  {
   "cell_type": "markdown",
   "metadata": {},
   "source": [
    "### Using NN to do Image Processing"
   ]
  },
  {
   "cell_type": "markdown",
   "metadata": {},
   "source": [
    "* **Preprocessing:** 对输入数据进行某种既定的转换\n",
    "\n",
    "    * Normalization: 把数据限定到某个范围内\n",
    "    \n",
    "    * Whitening: 将数据的整体分布形状平均化\n",
    "    \n",
    "    * Etc..."
   ]
  },
  {
   "cell_type": "markdown",
   "metadata": {},
   "source": [
    "* **Batch Processing：**\n",
    "    * 运行大量的数据处理的时候，要用到批处理\n",
    "    * 假设有100张图片，每张图片都是一个 1x784 的array，那么用100次for loop的效率就远远低于用 100x784 的数组（即将100个输入图打包成批）直接进行运算"
   ]
  },
  {
   "cell_type": "code",
   "execution_count": null,
   "metadata": {},
   "outputs": [],
   "source": []
  }
 ],
 "metadata": {
  "kernelspec": {
   "display_name": "Python 3",
   "language": "python",
   "name": "python3"
  },
  "language_info": {
   "codemirror_mode": {
    "name": "ipython",
    "version": 3
   },
   "file_extension": ".py",
   "mimetype": "text/x-python",
   "name": "python",
   "nbconvert_exporter": "python",
   "pygments_lexer": "ipython3",
   "version": "3.7.3"
  }
 },
 "nbformat": 4,
 "nbformat_minor": 2
}
